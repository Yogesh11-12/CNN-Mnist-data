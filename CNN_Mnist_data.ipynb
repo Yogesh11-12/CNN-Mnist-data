{
  "nbformat": 4,
  "nbformat_minor": 0,
  "metadata": {
    "colab": {
      "name": "CNN Mnist data.ipynb",
      "provenance": []
    },
    "kernelspec": {
      "name": "python3",
      "display_name": "Python 3"
    },
    "accelerator": "GPU"
  },
  "cells": [
    {
      "cell_type": "code",
      "metadata": {
        "colab": {
          "base_uri": "https://localhost:8080/"
        },
        "id": "TveV6tyJV4rv",
        "outputId": "2e59f5bd-8218-4bb0-f67c-bca322cb7380"
      },
      "source": [
        "!pip install keras"
      ],
      "execution_count": 182,
      "outputs": [
        {
          "output_type": "stream",
          "text": [
            "Requirement already satisfied: keras in /usr/local/lib/python3.6/dist-packages (2.4.3)\n",
            "Requirement already satisfied: scipy>=0.14 in /usr/local/lib/python3.6/dist-packages (from keras) (1.4.1)\n",
            "Requirement already satisfied: h5py in /usr/local/lib/python3.6/dist-packages (from keras) (2.10.0)\n",
            "Requirement already satisfied: numpy>=1.9.1 in /usr/local/lib/python3.6/dist-packages (from keras) (1.19.4)\n",
            "Requirement already satisfied: pyyaml in /usr/local/lib/python3.6/dist-packages (from keras) (3.13)\n",
            "Requirement already satisfied: six in /usr/local/lib/python3.6/dist-packages (from h5py->keras) (1.15.0)\n"
          ],
          "name": "stdout"
        }
      ]
    },
    {
      "cell_type": "code",
      "metadata": {
        "id": "dhBGk7CkWax4"
      },
      "source": [
        "import numpy as np\r\n",
        "import pandas as pd\r\n",
        "from keras.datasets import mnist\r\n",
        "from keras.models import Model\r\n",
        "from keras.layers import Dense,Input\r\n",
        "from keras.layers import Conv2D,MaxPooling2D,Flatten,Dropout\r\n",
        "from keras import backend as k\r\n"
      ],
      "execution_count": 183,
      "outputs": []
    },
    {
      "cell_type": "code",
      "metadata": {
        "id": "IBPBu3YnYNxr"
      },
      "source": [
        "(x_train,y_train), (x_test,y_test)=mnist.load_data()"
      ],
      "execution_count": 184,
      "outputs": []
    },
    {
      "cell_type": "code",
      "metadata": {
        "colab": {
          "base_uri": "https://localhost:8080/"
        },
        "id": "TGbmSRp-YDSc",
        "outputId": "dacacab2-299e-4fc3-ca74-6ef721354993"
      },
      "source": [
        "print('train_datset shape: ',x_train.shape,y_train.shape)\r\n",
        "print('test_datset shape: ',x_test.shape,y_test.shape)"
      ],
      "execution_count": 185,
      "outputs": [
        {
          "output_type": "stream",
          "text": [
            "train_datset shape:  (60000, 28, 28) (60000,)\n",
            "test_datset shape:  (10000, 28, 28) (10000,)\n"
          ],
          "name": "stdout"
        }
      ]
    },
    {
      "cell_type": "code",
      "metadata": {
        "colab": {
          "base_uri": "https://localhost:8080/",
          "height": 827
        },
        "id": "u0Xs9SWDYtdN",
        "outputId": "caeb4440-c34c-4bb2-a570-6bb90cf9ee9d"
      },
      "source": [
        "for i in range(10):\r\n",
        "  import matplotlib.pyplot as plt\r\n",
        "  plt.subplot(411)\r\n",
        "  plt.imshow(x_train[i],cmap=plt.get_cmap('Greys'))\r\n",
        "  plt.show()\r\n"
      ],
      "execution_count": 186,
      "outputs": [
        {
          "output_type": "display_data",
          "data": {
            "image/png": "[encoded data removed]",
            "text/plain": [
              "<Figure size 432x288 with 1 Axes>"
            ]
          },
          "metadata": {
            "tags": [],
            "needs_background": "light"
          }
        },
        {
          "output_type": "display_data",
          "data": {
            "image/png": "[encoded data removed]",
            "text/plain": [
              "<Figure size 432x288 with 1 Axes>"
            ]
          },
          "metadata": {
            "tags": [],
            "needs_background": "light"
          }
        },
        {
          "output_type": "display_data",
          "data": {
            "image/png": "[encoded data removed]",
            "text/plain": [
              "<Figure size 432x288 with 1 Axes>"
            ]
          },
          "metadata": {
            "tags": [],
            "needs_background": "light"
          }
        },
        {
          "output_type": "display_data",
          "data": {
            "image/png": "[encoded data removed]",
            "text/plain": [
              "<Figure size 432x288 with 1 Axes>"
            ]
          },
          "metadata": {
            "tags": [],
            "needs_background": "light"
          }
        },
        {
          "output_type": "display_data",
          "data": {
            "image/png": "[encoded data removed]",
            "text/plain": [
              "<Figure size 432x288 with 1 Axes>"
            ]
          },
          "metadata": {
            "tags": [],
            "needs_background": "light"
          }
        },
        {
          "output_type": "display_data",
          "data": {
            "image/png": "[encoded data removed]",
            "text/plain": [
              "<Figure size 432x288 with 1 Axes>"
            ]
          },
          "metadata": {
            "tags": [],
            "needs_background": "light"
          }
        },
        {
          "output_type": "display_data",
          "data": {
            "image/png": "[encoded data removed]",
            "text/plain": [
              "<Figure size 432x288 with 1 Axes>"
            ]
          },
          "metadata": {
            "tags": [],
            "needs_background": "light"
          }
        },
        {
          "output_type": "display_data",
          "data": {
            "image/png": "[encoded data removed]",
            "text/plain": [
              "<Figure size 432x288 with 1 Axes>"
            ]
          },
          "metadata": {
            "tags": [],
            "needs_background": "light"
          }
        },
        {
          "output_type": "display_data",
          "data": {
            "image/png": "[encoded data removed]",
            "text/plain": [
              "<Figure size 432x288 with 1 Axes>"
            ]
          },
          "metadata": {
            "tags": [],
            "needs_background": "light"
          }
        },
        {
          "output_type": "display_data",
          "data": {
            "image/png": "[encoded data removed]",
            "text/plain": [
              "<Figure size 432x288 with 1 Axes>"
            ]
          },
          "metadata": {
            "tags": [],
            "needs_background": "light"
          }
        }
      ]
    },
    {
      "cell_type": "code",
      "metadata": {
        "id": "8D-QL1GQbAow"
      },
      "source": [
        "img_rows,img_cols=28,28\r\n",
        "if k.image_data_format=='channels_first':\r\n",
        "  x_train=x_train.reshape(x_train.shape[0],1,img_rows,img_cols)\r\n",
        "  x_test=x_test.reshape(x_test.shape[0],1,img_rows,img_cols)\r\n",
        "  inpx=(1,img_rows,img_cols)\r\n",
        "else:\r\n",
        "  x_train=x_train.reshape(x_train.shape[0],img_rows,img_cols)\r\n",
        "  x_test=x_test.reshape(x_test.shape[0],img_rows,img_cols)\r\n",
        "  inpx=(img_rows,img_cols,1)"
      ],
      "execution_count": 187,
      "outputs": []
    },
    {
      "cell_type": "code",
      "metadata": {
        "id": "IZQsMWHDlY23"
      },
      "source": [
        ""
      ],
      "execution_count": 187,
      "outputs": []
    },
    {
      "cell_type": "code",
      "metadata": {
        "id": "9oxTscUabudZ"
      },
      "source": [
        "# convert integer to float\r\n",
        "x_train=x_train.astype('float32')\r\n",
        "x_test=x_test.astype('float32')"
      ],
      "execution_count": 188,
      "outputs": []
    },
    {
      "cell_type": "code",
      "metadata": {
        "colab": {
          "base_uri": "https://localhost:8080/"
        },
        "id": "NnRjdHvXb6Wr",
        "outputId": "7a358847-dc6e-4e82-e42f-78d23ea3612c"
      },
      "source": [
        "#normalization to 0 to 1\r\n",
        "x_train/=255\r\n",
        "x_test/=255\r\n",
        "print(x_train.shape)\r\n",
        "y_train.shape\r\n"
      ],
      "execution_count": 189,
      "outputs": [
        {
          "output_type": "stream",
          "text": [
            "(60000, 28, 28)\n"
          ],
          "name": "stdout"
        },
        {
          "output_type": "execute_result",
          "data": {
            "text/plain": [
              "(60000,)"
            ]
          },
          "metadata": {
            "tags": []
          },
          "execution_count": 189
        }
      ]
    },
    {
      "cell_type": "code",
      "metadata": {
        "id": "sxXwo2AWcqOb"
      },
      "source": [
        "#convert categorical data into dummy\r\n",
        "import keras\r\n",
        "y_train =keras.utils.to_categorical(y_train)\r\n",
        "y_test=keras.utils.to_categorical(y_test)"
      ],
      "execution_count": 190,
      "outputs": []
    },
    {
      "cell_type": "code",
      "metadata": {
        "id": "jWbV1MiOdGZn"
      },
      "source": [
        "# to define Cnn\r\n",
        "inpx=Input(shape=inpx)\r\n",
        "layer1=Conv2D(32,(3,3),activation='relu')(inpx)\r\n",
        "layer2=Conv2D(64,(3,3),activation='relu')(layer1)\r\n",
        "layer3=MaxPooling2D(pool_size=(2,2))(layer2)\r\n",
        "#to avoid overfitting\r\n",
        "layer4=Dropout(0.5)(layer3)\r\n",
        "layer5=Flatten()(layer4)\r\n",
        "layer6=Dense(250,activation='sigmoid')(layer5)\r\n",
        "layer7=Dense(10,activation='softmax')(layer6)\r\n",
        "\r\n"
      ],
      "execution_count": 191,
      "outputs": []
    },
    {
      "cell_type": "code",
      "metadata": {
        "colab": {
          "base_uri": "https://localhost:8080/"
        },
        "id": "r-d9O0jMn6_D",
        "outputId": "c9858778-d403-45e8-94e9-89d9c8d98960"
      },
      "source": [
        "model=Model([inpx],layer7)\r\n",
        "model.compile(optimizer='Adadelta',loss='categorical_crossentropy',metrics=['accuracy'])\r\n",
        "history=model.fit(x_train,y_train,batch_size=50,epochs=15)"
      ],
      "execution_count": 193,
      "outputs": [
        {
          "output_type": "stream",
          "text": [
            "Epoch 1/15\n",
            "1200/1200 [==============================] - 5s 4ms/step - loss: 2.2932 - accuracy: 0.1135\n",
            "Epoch 2/15\n",
            "1200/1200 [==============================] - 5s 4ms/step - loss: 2.1405 - accuracy: 0.3946\n",
            "Epoch 3/15\n",
            "1200/1200 [==============================] - 5s 4ms/step - loss: 2.0046 - accuracy: 0.5916\n",
            "Epoch 4/15\n",
            "1200/1200 [==============================] - 5s 4ms/step - loss: 1.8413 - accuracy: 0.6453\n",
            "Epoch 5/15\n",
            "1200/1200 [==============================] - 5s 4ms/step - loss: 1.6236 - accuracy: 0.7051\n",
            "Epoch 6/15\n",
            "1200/1200 [==============================] - 5s 4ms/step - loss: 1.3693 - accuracy: 0.7438\n",
            "Epoch 7/15\n",
            "1200/1200 [==============================] - 5s 4ms/step - loss: 1.1374 - accuracy: 0.7678\n",
            "Epoch 8/15\n",
            "1200/1200 [==============================] - 5s 4ms/step - loss: 0.9608 - accuracy: 0.7906\n",
            "Epoch 9/15\n",
            "1200/1200 [==============================] - 5s 4ms/step - loss: 0.8375 - accuracy: 0.8070\n",
            "Epoch 10/15\n",
            "1200/1200 [==============================] - 5s 4ms/step - loss: 0.7489 - accuracy: 0.8210\n",
            "Epoch 11/15\n",
            "1200/1200 [==============================] - 5s 4ms/step - loss: 0.6869 - accuracy: 0.8315\n",
            "Epoch 12/15\n",
            "1200/1200 [==============================] - 5s 4ms/step - loss: 0.6460 - accuracy: 0.8365\n",
            "Epoch 13/15\n",
            "1200/1200 [==============================] - 5s 4ms/step - loss: 0.6111 - accuracy: 0.8428\n",
            "Epoch 14/15\n",
            "1200/1200 [==============================] - 5s 4ms/step - loss: 0.5819 - accuracy: 0.8483\n",
            "Epoch 15/15\n",
            "1200/1200 [==============================] - 5s 4ms/step - loss: 0.5594 - accuracy: 0.8545\n"
          ],
          "name": "stdout"
        }
      ]
    },
    {
      "cell_type": "code",
      "metadata": {
        "colab": {
          "base_uri": "https://localhost:8080/",
          "height": 147
        },
        "id": "TGrLZCOKvaVo",
        "outputId": "bfe19064-5471-4f38-b37b-05a0f818092b"
      },
      "source": [
        "\r\n",
        "import matplotlib.pyplot as plt\r\n",
        "plt.subplot(2,1,1)\r\n",
        "plt.plot(history.history['loss'],color='blue')\r\n",
        "plt.show()"
      ],
      "execution_count": 194,
      "outputs": [
        {
          "output_type": "display_data",
          "data": {
            "image/png": "[encoded data removed]",
            "text/plain": [
              "<Figure size 432x288 with 1 Axes>"
            ]
          },
          "metadata": {
            "tags": [],
            "needs_background": "light"
          }
        }
      ]
    },
    {
      "cell_type": "code",
      "metadata": {
        "colab": {
          "base_uri": "https://localhost:8080/"
        },
        "id": "aVhGxzcZuFKZ",
        "outputId": "c50bc98f-2974-4974-9328-32f3547666de"
      },
      "source": [
        "score=model.evaluate(x_test,y_test)\r\n",
        "print('Loss:',score[0])\r\n",
        "print('Accuracy: ',score[1])\r\n"
      ],
      "execution_count": 195,
      "outputs": [
        {
          "output_type": "stream",
          "text": [
            "313/313 [==============================] - 1s 3ms/step - loss: 0.4678 - accuracy: 0.8787\n",
            "Loss: 0.4678042531013489\n",
            "Accuracy:  0.8787000179290771\n"
          ],
          "name": "stdout"
        }
      ]
    },
    {
      "cell_type": "code",
      "metadata": {
        "colab": {
          "base_uri": "https://localhost:8080/"
        },
        "id": "9xnghmmFljti",
        "outputId": "882f2fdc-049c-420b-f937-04cf827df353"
      },
      "source": [
        "prediction=model.predict(x_test)\r\n",
        "print(np.argmax(np.round(prediction[1])))\r\n"
      ],
      "execution_count": 196,
      "outputs": [
        {
          "output_type": "stream",
          "text": [
            "2\n"
          ],
          "name": "stdout"
        }
      ]
    },
    {
      "cell_type": "code",
      "metadata": {
        "colab": {
          "base_uri": "https://localhost:8080/",
          "height": 1000
        },
        "id": "sOXZvaeddXTU",
        "outputId": "0749a5df-6dcd-4e76-8707-23a58d7747bb"
      },
      "source": [
        "for i in range(5):\r\n",
        "  plt.imshow(x_test[i].reshape(28,28),cmap=plt.cm.binary)\r\n",
        "  print(np.argmax(np.round(prediction[i])))\r\n",
        "  plt.show()"
      ],
      "execution_count": 197,
      "outputs": [
        {
          "output_type": "stream",
          "text": [
            "7\n"
          ],
          "name": "stdout"
        },
        {
          "output_type": "display_data",
          "data": {
            "image/png": "[encoded data removed]",
            "text/plain": [
              "<Figure size 432x288 with 1 Axes>"
            ]
          },
          "metadata": {
            "tags": [],
            "needs_background": "light"
          }
        },
        {
          "output_type": "stream",
          "text": [
            "2\n"
          ],
          "name": "stdout"
        },
        {
          "output_type": "display_data",
          "data": {
            "image/png": "[encoded data removed]",
            "text/plain": [
              "<Figure size 432x288 with 1 Axes>"
            ]
          },
          "metadata": {
            "tags": [],
            "needs_background": "light"
          }
        },
        {
          "output_type": "stream",
          "text": [
            "1\n"
          ],
          "name": "stdout"
        },
        {
          "output_type": "display_data",
          "data": {
            "image/png": "[encoded data removed]",
            "text/plain": [
              "<Figure size 432x288 with 1 Axes>"
            ]
          },
          "metadata": {
            "tags": [],
            "needs_background": "light"
          }
        },
        {
          "output_type": "stream",
          "text": [
            "0\n"
          ],
          "name": "stdout"
        },
        {
          "output_type": "display_data",
          "data": {
            "image/png": "[encoded data removed]",
            "text/plain": [
              "<Figure size 432x288 with 1 Axes>"
            ]
          },
          "metadata": {
            "tags": [],
            "needs_background": "light"
          }
        },
        {
          "output_type": "stream",
          "text": [
            "4\n"
          ],
          "name": "stdout"
        },
        {
          "output_type": "display_data",
          "data": {
            "image/png": "[encoded data removed]",
            "text/plain": [
              "<Figure size 432x288 with 1 Axes>"
            ]
          },
          "metadata": {
            "tags": [],
            "needs_background": "light"
          }
        }
      ]
    },
    {
      "cell_type": "markdown",
      "metadata": {
        "id": "Nn8zLqzR2et1"
      },
      "source": [
        "**Fashion Dataset **"
      ]
    },
    {
      "cell_type": "code",
      "metadata": {
        "id": "fsHFc-by0tUF"
      },
      "source": [
        ""
      ],
      "execution_count": null,
      "outputs": []
    },
    {
      "cell_type": "code",
      "metadata": {
        "id": "LLFQp0eF2x9y"
      },
      "source": [
        ""
      ],
      "execution_count": null,
      "outputs": []
    }
  ]
}