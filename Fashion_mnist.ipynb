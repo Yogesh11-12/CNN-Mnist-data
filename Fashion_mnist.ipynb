{
  "nbformat": 4,
  "nbformat_minor": 0,
  "metadata": {
    "colab": {
      "name": "Fashion_mnist.ipynb",
      "provenance": []
    },
    "kernelspec": {
      "name": "python3",
      "display_name": "Python 3"
    }
  },
  "cells": [
    {
      "cell_type": "code",
      "metadata": {
        "colab": {
          "base_uri": "https://localhost:8080/"
        },
        "id": "4SkG1_LO27vT",
        "outputId": "25a3493b-f39e-4399-bada-ef1fb03a9898"
      },
      "source": [
        "!pip install keras\r\n"
      ],
      "execution_count": 77,
      "outputs": [
        {
          "output_type": "stream",
          "text": [
            "Requirement already satisfied: keras in /usr/local/lib/python3.6/dist-packages (2.4.3)\n",
            "Requirement already satisfied: numpy>=1.9.1 in /usr/local/lib/python3.6/dist-packages (from keras) (1.19.4)\n",
            "Requirement already satisfied: scipy>=0.14 in /usr/local/lib/python3.6/dist-packages (from keras) (1.4.1)\n",
            "Requirement already satisfied: h5py in /usr/local/lib/python3.6/dist-packages (from keras) (2.10.0)\n",
            "Requirement already satisfied: pyyaml in /usr/local/lib/python3.6/dist-packages (from keras) (3.13)\n",
            "Requirement already satisfied: six in /usr/local/lib/python3.6/dist-packages (from h5py->keras) (1.15.0)\n"
          ],
          "name": "stdout"
        }
      ]
    },
    {
      "cell_type": "code",
      "metadata": {
        "id": "JduDTiec3EWy"
      },
      "source": [
        "import numpy as np\r\n",
        "import pandas as pd\r\n",
        "from keras.datasets import fashion_mnist\r\n",
        "from keras.models import Model\r\n",
        "from keras.layers import Dense,Input\r\n",
        "from keras.layers import Conv2D,MaxPooling2D,Flatten,Dropout\r\n",
        "from keras import backend as k\r\n",
        "import matplotlib.pyplot as plt"
      ],
      "execution_count": 78,
      "outputs": []
    },
    {
      "cell_type": "code",
      "metadata": {
        "id": "K5-uozss3ZrE"
      },
      "source": [
        "(x_train,y_train),(x_test,y_test)=fashion_mnist.load_data()"
      ],
      "execution_count": 79,
      "outputs": []
    },
    {
      "cell_type": "code",
      "metadata": {
        "colab": {
          "base_uri": "https://localhost:8080/"
        },
        "id": "l6XIOjrD3ixd",
        "outputId": "6840af98-9c3d-4d80-82f5-67e0278b89cc"
      },
      "source": [
        "print('train data shape: ',x_train.shape,y_train.shape)\r\n",
        "print('Test data shape: ',x_test.shape,y_test.shape)"
      ],
      "execution_count": 80,
      "outputs": [
        {
          "output_type": "stream",
          "text": [
            "train data shape:  (60000, 28, 28) (60000,)\n",
            "Test data shape:  (10000, 28, 28) (10000,)\n"
          ],
          "name": "stdout"
        }
      ]
    },
    {
      "cell_type": "code",
      "metadata": {
        "colab": {
          "base_uri": "https://localhost:8080/",
          "height": 737
        },
        "id": "q0bxczQI37rs",
        "outputId": "c0d97f2e-5fc1-4f3b-be51-6e60fabb2169"
      },
      "source": [
        "for i in range(10):\r\n",
        "  plt.subplot(511)\r\n",
        "  plt.imshow(x_train[i])\r\n",
        "  plt.show()"
      ],
      "execution_count": 94,
      "outputs": [
        {
          "output_type": "display_data",
          "data": {
            "image/png": "[encoded data removed]",
            "text/plain": [
              "<Figure size 432x288 with 1 Axes>"
            ]
          },
          "metadata": {
            "tags": [],
            "needs_background": "light"
          }
        },
        {
          "output_type": "display_data",
          "data": {
            "image/png": "[encoded data removed]",
            "text/plain": [
              "<Figure size 432x288 with 1 Axes>"
            ]
          },
          "metadata": {
            "tags": [],
            "needs_background": "light"
          }
        },
        {
          "output_type": "display_data",
          "data": {
            "image/png": "[encoded data removed]",
            "text/plain": [
              "<Figure size 432x288 with 1 Axes>"
            ]
          },
          "metadata": {
            "tags": [],
            "needs_background": "light"
          }
        },
        {
          "output_type": "display_data",
          "data": {
            "image/png": "[encoded data removed]",
            "text/plain": [
              "<Figure size 432x288 with 1 Axes>"
            ]
          },
          "metadata": {
            "tags": [],
            "needs_background": "light"
          }
        },
        {
          "output_type": "display_data",
          "data": {
            "image/png": "[encoded data removed]",
            "text/plain": [
              "<Figure size 432x288 with 1 Axes>"
            ]
          },
          "metadata": {
            "tags": [],
            "needs_background": "light"
          }
        },
        {
          "output_type": "display_data",
          "data": {
            "image/png": "[encoded data removed]",
            "text/plain": [
              "<Figure size 432x288 with 1 Axes>"
            ]
          },
          "metadata": {
            "tags": [],
            "needs_background": "light"
          }
        },
        {
          "output_type": "display_data",
          "data": {
            "image/png": "[encoded data removed]",
            "text/plain": [
              "<Figure size 432x288 with 1 Axes>"
            ]
          },
          "metadata": {
            "tags": [],
            "needs_background": "light"
          }
        },
        {
          "output_type": "display_data",
          "data": {
            "image/png": "[encoded data removed]",
            "text/plain": [
              "<Figure size 432x288 with 1 Axes>"
            ]
          },
          "metadata": {
            "tags": [],
            "needs_background": "light"
          }
        },
        {
          "output_type": "display_data",
          "data": {
            "image/png": "[encoded data removed]",
            "text/plain": [
              "<Figure size 432x288 with 1 Axes>"
            ]
          },
          "metadata": {
            "tags": [],
            "needs_background": "light"
          }
        },
        {
          "output_type": "display_data",
          "data": {
            "image/png": "[encoded data removed]",
            "text/plain": [
              "<Figure size 432x288 with 1 Axes>"
            ]
          },
          "metadata": {
            "tags": [],
            "needs_background": "light"
          }
        }
      ]
    },
    {
      "cell_type": "code",
      "metadata": {
        "colab": {
          "base_uri": "https://localhost:8080/",
          "height": 511
        },
        "id": "k9qw0Fp24fad",
        "outputId": "e2e16cf3-9e2d-4a8e-d937-c4c51f306b9b"
      },
      "source": [
        "import seaborn as sns\r\n",
        "sns.jointplot(y_train,data=fashion_mnist)\r\n",
        "print(y_test)"
      ],
      "execution_count": 95,
      "outputs": [
        {
          "output_type": "stream",
          "text": [
            "/usr/local/lib/python3.6/dist-packages/seaborn/_decorators.py:43: FutureWarning: Pass the following variable as a keyword arg: x. From version 0.12, the only valid positional argument will be `data`, and passing other arguments without an explicit keyword will result in an error or misinterpretation.\n",
            "  FutureWarning\n"
          ],
          "name": "stderr"
        },
        {
          "output_type": "stream",
          "text": [
            "[9 2 1 ... 8 1 5]\n"
          ],
          "name": "stdout"
        },
        {
          "output_type": "display_data",
          "data": {
            "image/png": "[encoded data removed]",
            "text/plain": [
              "<Figure size 432x432 with 3 Axes>"
            ]
          },
          "metadata": {
            "tags": [],
            "needs_background": "light"
          }
        }
      ]
    },
    {
      "cell_type": "code",
      "metadata": {
        "id": "GumOdRUI5tYK"
      },
      "source": [
        "n_rows,n_cols=28,28\r\n",
        "if k.image_data_format()=='channels_first':\r\n",
        "  x_train=x_train.reshape(x_train.shape[0],1,n_rows,n_cols)\r\n",
        "  x_test=x_test.reshape(x_test.shape[0],1,n_rows,n_cols)\r\n",
        "  inpx=(1,n_rows,n_cols)\r\n",
        "else:\r\n",
        "  x_train=x_train.reshape(x_train.shape[0],n_rows,n_cols)\r\n",
        "  x_test=x_test.reshape(x_test.shape[0],n_rows,n_cols)\r\n",
        "  inpx=(n_rows,n_cols,1)\r\n"
      ],
      "execution_count": 83,
      "outputs": []
    },
    {
      "cell_type": "code",
      "metadata": {
        "id": "qE2o7HuG7fQc"
      },
      "source": [
        "x_train=x_train.astype('float32')\r\n",
        "x_test=x_test.astype('float32')\r\n"
      ],
      "execution_count": 84,
      "outputs": []
    },
    {
      "cell_type": "code",
      "metadata": {
        "id": "5J7d2dwt7ytp"
      },
      "source": [
        "x_train/=255\r\n",
        "x_test/=255\r\n"
      ],
      "execution_count": 85,
      "outputs": []
    },
    {
      "cell_type": "code",
      "metadata": {
        "colab": {
          "base_uri": "https://localhost:8080/"
        },
        "id": "uE6OVxdS8JoU",
        "outputId": "7c8889a3-a43a-4d76-aebb-ce453beb4c7e"
      },
      "source": [
        "import keras\r\n",
        "y_train_cat=keras.utils.to_categorical(y_train)\r\n",
        "y_test_cat=keras.utils.to_categorical(y_test)\r\n",
        "print(y_train.shape)"
      ],
      "execution_count": 86,
      "outputs": [
        {
          "output_type": "stream",
          "text": [
            "(60000,)\n"
          ],
          "name": "stdout"
        }
      ]
    },
    {
      "cell_type": "code",
      "metadata": {
        "id": "PGK6hZT48ixv"
      },
      "source": [
        "inpx=Input(shape=inpx)\r\n",
        "layer1=Conv2D(32,(3,3),activation='relu')(inpx)\r\n",
        "layer2=Conv2D(32,(3,3),activation='relu')(layer1)\r\n",
        "layer3=MaxPooling2D(pool_size=(2,2))(layer2)\r\n",
        "layer4=Dropout(0.5)(layer3)\r\n",
        "layer5=Flatten()(layer4)\r\n",
        "layer6=Dense(150,activation='sigmoid')(layer5)\r\n",
        "layer7=Dense(10,activation='softmax')(layer6)"
      ],
      "execution_count": 87,
      "outputs": []
    },
    {
      "cell_type": "code",
      "metadata": {
        "id": "pnuqnOlb9lpC"
      },
      "source": [
        "model=Model([inpx],layer7)\r\n",
        "model.compile(optimizer='Adam',loss='categorical_crossentropy',metrics=['accuracy'])"
      ],
      "execution_count": 88,
      "outputs": []
    },
    {
      "cell_type": "code",
      "metadata": {
        "colab": {
          "base_uri": "https://localhost:8080/"
        },
        "id": "8XbQIIKE-Yn-",
        "outputId": "918f685b-758c-44f1-ac42-9c33e05197b0"
      },
      "source": [
        "model.fit(x_train,y_train_cat,batch_size=50,epochs=5)"
      ],
      "execution_count": 89,
      "outputs": [
        {
          "output_type": "stream",
          "text": [
            "Epoch 1/5\n",
            "1200/1200 [==============================] - 98s 81ms/step - loss: 0.6348 - accuracy: 0.7729\n",
            "Epoch 2/5\n",
            "1200/1200 [==============================] - 97s 81ms/step - loss: 0.3141 - accuracy: 0.8869\n",
            "Epoch 3/5\n",
            "1200/1200 [==============================] - 97s 81ms/step - loss: 0.2688 - accuracy: 0.9008\n",
            "Epoch 4/5\n",
            "1200/1200 [==============================] - 97s 81ms/step - loss: 0.2397 - accuracy: 0.9114\n",
            "Epoch 5/5\n",
            "1200/1200 [==============================] - 97s 81ms/step - loss: 0.2159 - accuracy: 0.9219\n"
          ],
          "name": "stdout"
        },
        {
          "output_type": "execute_result",
          "data": {
            "text/plain": [
              "<tensorflow.python.keras.callbacks.History at 0x7f9f483b87b8>"
            ]
          },
          "metadata": {
            "tags": []
          },
          "execution_count": 89
        }
      ]
    },
    {
      "cell_type": "code",
      "metadata": {
        "colab": {
          "base_uri": "https://localhost:8080/"
        },
        "id": "fvYFQfzh-h2y",
        "outputId": "1a6c074d-4987-49fb-9e2f-981c0a4be38b"
      },
      "source": [
        "score=model.evaluate(x_test,y_test_cat,)\r\n",
        "print('loss',score[0])\r\n",
        "print('accuracy',score[1])"
      ],
      "execution_count": 90,
      "outputs": [
        {
          "output_type": "stream",
          "text": [
            "313/313 [==============================] - 5s 15ms/step - loss: 0.2296 - accuracy: 0.9150\n",
            "loss 0.2296474128961563\n",
            "accuracy 0.9150000214576721\n"
          ],
          "name": "stdout"
        }
      ]
    },
    {
      "cell_type": "code",
      "metadata": {
        "colab": {
          "base_uri": "https://localhost:8080/"
        },
        "id": "xUiXRZ0nAgIy",
        "outputId": "cc1ab4a8-b5ee-45a2-9684-9ee8af830f67"
      },
      "source": [
        "prediction=model.predict(x_test)\r\n",
        "print(np.argmax(np.round(prediction[2])))"
      ],
      "execution_count": 91,
      "outputs": [
        {
          "output_type": "stream",
          "text": [
            "1\n"
          ],
          "name": "stdout"
        }
      ]
    },
    {
      "cell_type": "code",
      "metadata": {
        "colab": {
          "base_uri": "https://localhost:8080/",
          "height": 1000
        },
        "id": "T_0N6OuXAtHF",
        "outputId": "f8181e58-9200-437d-d07c-b206a095d85e"
      },
      "source": [
        "for i in range(4):\r\n",
        "  plt.imshow(x_test[i].reshape(28,28),cmap=plt.cm.binary)\r\n",
        "  print(np.argmax(np.round(prediction[i])))\r\n",
        "  print(y_test[i])\r\n",
        "  plt.show()"
      ],
      "execution_count": 92,
      "outputs": [
        {
          "output_type": "stream",
          "text": [
            "9\n",
            "9\n"
          ],
          "name": "stdout"
        },
        {
          "output_type": "display_data",
          "data": {
            "image/png": "[encoded data removed]",
            "text/plain": [
              "<Figure size 432x288 with 1 Axes>"
            ]
          },
          "metadata": {
            "tags": [],
            "needs_background": "light"
          }
        },
        {
          "output_type": "stream",
          "text": [
            "2\n",
            "2\n"
          ],
          "name": "stdout"
        },
        {
          "output_type": "display_data",
          "data": {
            "image/png": "[encoded data removed]",
            "text/plain": [
              "<Figure size 432x288 with 1 Axes>"
            ]
          },
          "metadata": {
            "tags": [],
            "needs_background": "light"
          }
        },
        {
          "output_type": "stream",
          "text": [
            "1\n",
            "1\n"
          ],
          "name": "stdout"
        },
        {
          "output_type": "display_data",
          "data": {
            "image/png": "[encoded data removed]",
            "text/plain": [
              "<Figure size 432x288 with 1 Axes>"
            ]
          },
          "metadata": {
            "tags": [],
            "needs_background": "light"
          }
        },
        {
          "output_type": "stream",
          "text": [
            "1\n",
            "1\n"
          ],
          "name": "stdout"
        },
        {
          "output_type": "display_data",
          "data": {
            "image/png": "[encoded data removed]",
            "text/plain": [
              "<Figure size 432x288 with 1 Axes>"
            ]
          },
          "metadata": {
            "tags": [],
            "needs_background": "light"
          }
        }
      ]
    }
  ]
}